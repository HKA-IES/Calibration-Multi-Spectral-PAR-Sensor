{
 "cells": [
  {
   "cell_type": "code",
   "execution_count": 1,
   "metadata": {},
   "outputs": [],
   "source": [
    "import numpy as np\n",
    "import pandas as pd\n",
    "from scipy import interpolate\n",
    "from scipy.optimize import brentq\n",
    "from scipy.interpolate import CubicSpline\n",
    "from scipy.signal import find_peaks, peak_widths"
   ]
  },
  {
   "cell_type": "markdown",
   "metadata": {},
   "source": [
    "### Specifications of the resulting file.\n",
    "Change sensor number:"
   ]
  },
  {
   "cell_type": "code",
   "execution_count": 38,
   "metadata": {},
   "outputs": [],
   "source": [
    "save = True             # true to save file, false to just perform calculations\n",
    "fpath = r\"../data\"      # file location to save results\n",
    "sensor = 1\n",
    "sensor_nr = f'{sensor}'         # sensor number for file name\n",
    "addendum = ''           # to be appended at the end of the file name"
   ]
  },
  {
   "cell_type": "markdown",
   "metadata": {},
   "source": [
    "### Specifications of the raw sensor data"
   ]
  },
  {
   "cell_type": "code",
   "execution_count": 39,
   "metadata": {},
   "outputs": [],
   "source": [
    "path = r\"../data\"       # file location of raw data\n",
    "\n",
    "file = f\"/Sensor{sensor}_raw.csv\"\n",
    "df1 = pd.read_csv(path+file, delimiter=\",\")\n",
    "\n",
    "df_all = pd.concat([df1])   #concatenation to accomodate multiple input files\n",
    "df_all = df_all.reset_index(drop=True)\n",
    "\n",
    "gain = 512\n",
    "int_time = 1057"
   ]
  },
  {
   "cell_type": "markdown",
   "metadata": {},
   "source": [
    "### Optional plot parameters."
   ]
  },
  {
   "cell_type": "code",
   "execution_count": 40,
   "metadata": {},
   "outputs": [],
   "source": [
    "plot_results = False\n",
    "\n",
    "if plot_results: \n",
    "    import matplotlib.pyplot as plt\n",
    "    \n",
    "    # Colours for plots\n",
    "    f1_colour = '#7600ed'       # λ = 415nm\n",
    "    f2_colour = '#0028ff'       # λ = 445nm\n",
    "    f3_colour = '#00d5ff'       # λ = 480nm\n",
    "    f4_colour = '#1fff00'       # λ = 515nm\n",
    "    f5_colour = '#b3ff00'       # λ = 555nm\n",
    "    f6_colour = '#ffdf00'       # λ = 590nm\n",
    "    f7_colour = '#ff4f00'       # λ = 630nm\n",
    "    f8_colour = '#df0000'       # λ = 680nm\n",
    "    nir_colour = '#555555'      # grey\n",
    "\n",
    "    # Measurement Markers {'none' none | 'o' circle | '^' triangle | 's' square |'X' X | '+' plus}\n",
    "    data_mark = 'o'\n",
    "\n",
    "    # Marker Size\n",
    "    mark_sz = 3\n",
    "\n",
    "    # Font Style\n",
    "    plt.rcParams[\"font.family\"] = \"serif\"\n",
    "    plt.rcParams[\"font.serif\"] = \"Times New Roman\""
   ]
  },
  {
   "cell_type": "markdown",
   "metadata": {},
   "source": [
    "### Convert raw sensor counts to unitless basic values.\n",
    "\n",
    "Calculated as per:\n",
    "$$basic_k = \\frac{raw_k}{(Gain \\times Integration Time)}$$"
   ]
  },
  {
   "cell_type": "code",
   "execution_count": 41,
   "metadata": {},
   "outputs": [],
   "source": [
    "columns_to_modify = ['f1', 'f2', 'f3', 'f4', 'f5', 'f6', 'f7', 'f8', 'clear', 'nir']\n",
    "df_all[columns_to_modify] = df_all[columns_to_modify].div(gain * int_time)"
   ]
  },
  {
   "cell_type": "markdown",
   "metadata": {},
   "source": [
    "### Calculations of irradiance on AS7341, considering wavelength dependency of the beam splitter.\n",
    "\n",
    "Irradiance on the power meter:\n",
    "$$I^{E}_{PM} = \\frac{P^{E}_{PM}}{A_{PM}}$$\n",
    "\n",
    "Correction for beam splitter non-ideality:\n",
    "$$I^{E}_{AS7341} = I^{E}_{PM}\\cdot{}\\kappa_{BS}(\\lambda{})$$"
   ]
  },
  {
   "cell_type": "code",
   "execution_count": 42,
   "metadata": {},
   "outputs": [],
   "source": [
    "# Correct for the effects of the beam splitter\n",
    "bs = pd.read_csv(r\"BeamSplitterData.csv\")\n",
    "bs['ratio'] = bs['trans_adj_bs']/bs['refl_adj_bs']  # ratio of transmitted (DUT) to reflected (PM)\n",
    "A_pm = np.pi*((2.5E-3)**2)      # Area of 5mm aperture on TLPM\n",
    "planck = (6.626e-34)            # Planck's constant (J⋅s)\n",
    "c_light = (3.0e8)               # Speed of light (m/s)\n",
    "avogadro = 6.02214076e23        # Avogadro's constant (mol⁻¹)\n",
    "\n",
    "# apply corrections for BS and calculate irradiance\n",
    "df_all = pd.merge(df_all, bs[['wavelength', 'ratio']], on='wavelength', how='left')\n",
    "P_pm = df_all['power']                          # Power (W)\n",
    "\n",
    "I_dut = P_pm * df_all['ratio'] / A_pm           # W/m²\n",
    "\n",
    "df_all['I_dut'] = I_dut\n",
    "df_all['P_dut'] = P_pm * df_all['ratio']"
   ]
  },
  {
   "cell_type": "code",
   "execution_count": 43,
   "metadata": {},
   "outputs": [],
   "source": [
    "df_all = df_all[df_all[\"clear\"] > 0]    # remove measurements which may have failed, with a clear channel reading of 0\n",
    "df_old = df_all.copy()                  # copy of dataframe to visualize effects of preprocessing"
   ]
  },
  {
   "cell_type": "markdown",
   "metadata": {},
   "source": [
    "### Delineate between iterations of the measurement\n",
    "To ensure data from seperate measurement cycles is not grouped together"
   ]
  },
  {
   "cell_type": "code",
   "execution_count": 44,
   "metadata": {},
   "outputs": [
    {
     "name": "stdout",
     "output_type": "stream",
     "text": [
      "5\n"
     ]
    }
   ],
   "source": [
    "df_all['cycle'] = 0\n",
    "\n",
    "# Find the indices where 'wavelength' is 390, as this was the starting wavelength for each cycle\n",
    "start_indices = df_all.index[df_all['wavelength'] == 390].tolist()\n",
    "\n",
    "# Assign cycle numbers (to make a unique data set for each measurement)\n",
    "for cycle_number in range(len(start_indices) - 1):\n",
    "    start_idx = start_indices[cycle_number]\n",
    "    end_idx = start_indices[cycle_number + 1]\n",
    "    df_all.loc[start_idx:end_idx - 1, 'cycle'] = cycle_number + 1\n",
    "\n",
    "# for the last cycle, if needed\n",
    "if len(start_indices) > 1:\n",
    "    df_all.loc[start_indices[-1]:, 'cycle'] = len(start_indices)\n",
    "\n",
    "print(str(df_all['cycle'].max()))      # to see how many cycles are in this data. Total new rows of data will be 8* this value (for the number of bins)\n"
   ]
  },
  {
   "cell_type": "markdown",
   "metadata": {},
   "source": [
    "### Normalization of data\n",
    "Given the inherent properties of the QTH lamp, the irradiance $I^\\text{E}_{\\text{DUT}}(\\lambda)$ does not exhibit uniform distribution across the spectral range. To determine the relative spectral response $s_{i, \\text{rel}}(\\lambda)$, it is necessary to normalize the raw data from each channel of the spectral sensor $s_{i, \\text{raw}}(\\lambda)$ by $I^\\text{E}_{\\text{DUT}}(\\lambda)$:\n",
    "\\begin{equation}\n",
    "    s_{i, \\text{rel}}(\\lambda) = \\frac{s_{i, \\text{raw}}(\\lambda)}{I^\\text{E}_{\\text{DUT}}(\\lambda)}\n",
    "\\end{equation}\n",
    "To compute the absolute spectral response across each of the 10 channels, the relative spectral responses for all channels $i$ are compared to channel 8, which shows the peak response at $\\lambda_p$:\n",
    "\\begin{equation}\n",
    "    s_{i}(\\lambda) = s_{8, \\text{abs}}(\\lambda_p) \\cdot \\frac{s_{i, \\text{rel}}(\\lambda)}{s_{8, \\text{rel}}(\\lambda_p)}\n",
    "\\end{equation}"
   ]
  },
  {
   "cell_type": "code",
   "execution_count": 45,
   "metadata": {},
   "outputs": [],
   "source": [
    "# save a copy of the dataframe before correction to compare\n",
    "df_old2 = df_all.copy()\n",
    "df_all = []\n",
    "df_all = pd.DataFrame()\n",
    "\n",
    "columns_to_scale = [ 'f1', 'f2', 'f3', 'f4', 'f5', 'f6', 'f7', 'f8', 'nir', 'clear', 'I_dut']\n",
    "\n",
    "for cycle_number in df_old2['cycle'].unique():\n",
    "    # Filter rows for the current cycle\n",
    "    cycle_data = df_old2[df_old2['cycle'] == cycle_number].copy()\n",
    "    cycle_data.reset_index(inplace=True)\n",
    "\n",
    "    # normalize to incident light \n",
    "    df_normalize = cycle_data.copy()\n",
    "    df_normalize[\"f1\"] = cycle_data[\"f1\"]/cycle_data[\"I_dut\"]\n",
    "    df_normalize[\"f2\"] = cycle_data[\"f2\"]/cycle_data[\"I_dut\"]\n",
    "    df_normalize[\"f3\"] = cycle_data[\"f3\"]/cycle_data[\"I_dut\"]\n",
    "    df_normalize[\"f4\"] = cycle_data[\"f4\"]/cycle_data[\"I_dut\"]\n",
    "    df_normalize[\"f5\"] = cycle_data[\"f5\"]/cycle_data[\"I_dut\"]\n",
    "    df_normalize[\"f6\"] = cycle_data[\"f6\"]/cycle_data[\"I_dut\"]\n",
    "    df_normalize[\"f7\"] = cycle_data[\"f7\"]/cycle_data[\"I_dut\"]\n",
    "    df_normalize[\"f8\"] = cycle_data[\"f8\"]/cycle_data[\"I_dut\"]\n",
    "    df_normalize[\"clear\"] = cycle_data[\"clear\"]/cycle_data[\"I_dut\"]\n",
    "    df_normalize[\"nir\"] = cycle_data[\"nir\"]/cycle_data[\"I_dut\"]\n",
    "    df_normalize[\"I_dut\"] = cycle_data[\"I_dut\"]/cycle_data[\"I_dut\"]\n",
    "\n",
    "    # s_rel(l) / s_rel(l0)\n",
    "    df_relative = df_normalize.copy()\n",
    "    df_relative[\"f1\"] = df_normalize[\"f1\"]/df_normalize[\"f8\"].max()\n",
    "    df_relative[\"f2\"] = df_normalize[\"f2\"]/df_normalize[\"f8\"].max()\n",
    "    df_relative[\"f3\"] = df_normalize[\"f3\"]/df_normalize[\"f8\"].max()\n",
    "    df_relative[\"f4\"] = df_normalize[\"f4\"]/df_normalize[\"f8\"].max()\n",
    "    df_relative[\"f5\"] = df_normalize[\"f5\"]/df_normalize[\"f8\"].max()\n",
    "    df_relative[\"f6\"] = df_normalize[\"f6\"]/df_normalize[\"f8\"].max()\n",
    "    df_relative[\"f7\"] = df_normalize[\"f7\"]/df_normalize[\"f8\"].max()\n",
    "    df_relative[\"f8\"] = df_normalize[\"f8\"]/df_normalize[\"f8\"].max()\n",
    "    df_relative[\"clear\"] = df_normalize[\"clear\"]/df_normalize[\"f8\"].max()\n",
    "    df_relative[\"nir\"] = df_normalize[\"nir\"]/df_normalize[\"f8\"].max()\n",
    "    df_relative[\"I_dut\"] = df_normalize[\"I_dut\"]\n",
    "\n",
    "    # absolute spectral response \n",
    "    # s_abs(l0) * s_rel(l) / s_rel(l0)\n",
    "    df_absolute = df_relative.copy()\n",
    "    df_absolute[\"f1\"] = df_relative[\"f1\"]*cycle_data[\"f8\"].max()\n",
    "    df_absolute[\"f2\"] = df_relative[\"f2\"]*cycle_data[\"f8\"].max()\n",
    "    df_absolute[\"f3\"] = df_relative[\"f3\"]*cycle_data[\"f8\"].max()\n",
    "    df_absolute[\"f4\"] = df_relative[\"f4\"]*cycle_data[\"f8\"].max()\n",
    "    df_absolute[\"f5\"] = df_relative[\"f5\"]*cycle_data[\"f8\"].max()\n",
    "    df_absolute[\"f6\"] = df_relative[\"f6\"]*cycle_data[\"f8\"].max()\n",
    "    df_absolute[\"f7\"] = df_relative[\"f7\"]*cycle_data[\"f8\"].max()\n",
    "    df_absolute[\"f8\"] = df_relative[\"f8\"]*cycle_data[\"f8\"].max()\n",
    "    df_absolute[\"clear\"] = df_relative[\"clear\"]*cycle_data[\"f8\"].max()\n",
    "    df_absolute[\"nir\"] = df_relative[\"nir\"]*cycle_data[\"f8\"].max()\n",
    "    df_absolute[\"I_dut\"] = df_relative[\"I_dut\"] * cycle_data[\"I_dut\"].iloc[cycle_data[\"f8\"].idxmax()]\n",
    "\n",
    "    # store scaled data in df_all\n",
    "    df_all = pd.concat([df_all, df_absolute], ignore_index=True)\n",
    "\n",
    "\n",
    "df_all[\"PAR\"] = (df_all['I_dut'] * df_all['wavelength']*1E-9).astype(float) / (planck * c_light) * ((1e6)/(avogadro))\n",
    "df_old2[\"PAR\"] = (df_old2['I_dut'] * df_old2['wavelength']*1E-9).astype(float) / (planck * c_light) * ((1e6)/(avogadro))"
   ]
  },
  {
   "cell_type": "markdown",
   "metadata": {},
   "source": [
    "### Set calculated PAR to zero for $\\lambda$<400 nm and $\\lambda$>700 nm"
   ]
  },
  {
   "cell_type": "code",
   "execution_count": 46,
   "metadata": {},
   "outputs": [],
   "source": [
    "df_all.loc[(df_all['wavelength'] < 400) | (df_all['wavelength'] > 700), 'PAR'] = 0"
   ]
  },
  {
   "cell_type": "code",
   "execution_count": 47,
   "metadata": {},
   "outputs": [],
   "source": [
    "df_old2A = df_old2[df_old2['cycle'] == 1].copy()\n",
    "df_allA  = df_all[df_all['cycle'] == 1].copy()\n",
    "\n",
    "if plot_results:\n",
    "    fig, axes = plt.subplots(1, 2, figsize=(12, 5))  # 1 row, 2 columns\n",
    "\n",
    "    axes[0].scatter(df_old2A[\"wavelength\"], df_old2A[\"f1\"], label='F1', color=f1_colour, s=mark_sz, marker=data_mark)\n",
    "    axes[0].scatter(df_old2A[\"wavelength\"], df_old2A[\"f2\"], label='F2', color=f2_colour, s=mark_sz, marker=data_mark)\n",
    "    axes[0].scatter(df_old2A[\"wavelength\"], df_old2A[\"f3\"], label='F3', color=f3_colour, s=mark_sz, marker=data_mark)\n",
    "    axes[0].scatter(df_old2A[\"wavelength\"], df_old2A[\"f4\"], label='F4', color=f4_colour, s=mark_sz, marker=data_mark)\n",
    "    axes[0].scatter(df_old2A[\"wavelength\"], df_old2A[\"f5\"], label='F5', color=f5_colour, s=mark_sz, marker=data_mark)\n",
    "    axes[0].scatter(df_old2A[\"wavelength\"], df_old2A[\"f6\"], label='F6', color=f6_colour, s=mark_sz, marker=data_mark)\n",
    "    axes[0].scatter(df_old2A[\"wavelength\"], df_old2A[\"f7\"], label='F7', color=f7_colour, s=mark_sz, marker=data_mark)\n",
    "    axes[0].scatter(df_old2A[\"wavelength\"], df_old2A[\"f8\"], label='F8', color=f8_colour, s=mark_sz, marker=data_mark)\n",
    "    axes[0].scatter(df_old2A[\"wavelength\"], df_old2A[\"clear\"], label='Clear', color='#b4c9ff', s=mark_sz, marker=data_mark)\n",
    "    axes[0].scatter(df_old2A[\"wavelength\"], df_old2A[\"nir\"], label='NIR', color='#670505', s=mark_sz, marker=data_mark)\n",
    "    axes[0].scatter(df_old2A[\"wavelength\"], df_old2A[\"PAR\"]/10, label='PAR', color='#8A9A5B', s=mark_sz, marker=data_mark)\n",
    "\n",
    "    axes[0].set_xlabel('Wavelength (nm)')\n",
    "    axes[0].set_ylabel('Basic Count')\n",
    "\n",
    "    axes[0].set_title('Channel Response of AS7341')\n",
    "\n",
    "    axes[1].scatter(df_allA[\"wavelength\"], df_allA[\"f1\"], label='F1', color=f1_colour, s=mark_sz, marker=data_mark)\n",
    "    axes[1].scatter(df_allA[\"wavelength\"], df_allA[\"f2\"], label='F2', color=f2_colour, s=mark_sz, marker=data_mark)\n",
    "    axes[1].scatter(df_allA[\"wavelength\"], df_allA[\"f3\"], label='F3', color=f3_colour, s=mark_sz, marker=data_mark)\n",
    "    axes[1].scatter(df_allA[\"wavelength\"], df_allA[\"f4\"], label='F4', color=f4_colour, s=mark_sz, marker=data_mark)\n",
    "    axes[1].scatter(df_allA[\"wavelength\"], df_allA[\"f5\"], label='F5', color=f5_colour, s=mark_sz, marker=data_mark)\n",
    "    axes[1].scatter(df_allA[\"wavelength\"], df_allA[\"f6\"], label='F6', color=f6_colour, s=mark_sz, marker=data_mark)\n",
    "    axes[1].scatter(df_allA[\"wavelength\"], df_allA[\"f7\"], label='F7', color=f7_colour, s=mark_sz, marker=data_mark)\n",
    "    axes[1].scatter(df_allA[\"wavelength\"], df_allA[\"f8\"], label='F8', color=f8_colour, s=mark_sz, marker=data_mark)\n",
    "    axes[1].scatter(df_allA[\"wavelength\"], df_allA[\"clear\"], label='Clear', color='#b4c9ff', s=mark_sz, marker=data_mark)\n",
    "    axes[1].scatter(df_allA[\"wavelength\"], df_allA[\"nir\"], label='NIR', color='#670505', s=mark_sz, marker=data_mark)\n",
    "    axes[1].scatter(df_allA[\"wavelength\"], df_allA[\"PAR\"]/10, label='PAR', color='#8A9A5B', s=mark_sz, marker=data_mark)\n",
    "\n",
    "    axes[1].set_xlabel('Wavelength (nm)')\n",
    "    axes[1].set_ylabel('Basic Count')\n",
    "\n",
    "    axes[1].set_title('Channel Response of AS7341 (normalized to power)')\n",
    "\n",
    "    plt.tight_layout()\n",
    "    plt.show()"
   ]
  },
  {
   "cell_type": "code",
   "execution_count": 48,
   "metadata": {},
   "outputs": [],
   "source": [
    "df_norm_mean = df_all.groupby(\"wavelength\").mean(numeric_only=True).reset_index()"
   ]
  },
  {
   "cell_type": "code",
   "execution_count": 49,
   "metadata": {},
   "outputs": [],
   "source": [
    "if save:\n",
    "    # save the resulting data to a new dataframe and file\n",
    "    file_name_normmean = (f'/Sensor{sensor}_preprocessed_normed+mean'+str(addendum)+'.csv')\n",
    "    df_norm_mean.to_csv(fpath+file_name_normmean, index=False)\n",
    "    file_name_norm = (f'/Sensor{sensor}_preprocessed_normed'+str(addendum)+'.csv')\n",
    "    df_all.to_csv(fpath+file_name_norm, index=False)"
   ]
  }
 ],
 "metadata": {
  "kernelspec": {
   "display_name": ".venv",
   "language": "python",
   "name": "python3"
  },
  "language_info": {
   "codemirror_mode": {
    "name": "ipython",
    "version": 3
   },
   "file_extension": ".py",
   "mimetype": "text/x-python",
   "name": "python",
   "nbconvert_exporter": "python",
   "pygments_lexer": "ipython3",
   "version": "3.12.2"
  }
 },
 "nbformat": 4,
 "nbformat_minor": 2
}
